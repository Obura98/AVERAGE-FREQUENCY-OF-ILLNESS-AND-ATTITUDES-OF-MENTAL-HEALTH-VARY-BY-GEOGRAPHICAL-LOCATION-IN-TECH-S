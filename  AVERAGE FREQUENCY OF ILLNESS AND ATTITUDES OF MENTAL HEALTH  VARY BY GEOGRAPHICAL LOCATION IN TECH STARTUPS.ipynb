{
 "cells": [
  {
   "cell_type": "markdown",
   "metadata": {},
   "source": [
    "## Research Question"
   ]
  },
  {
   "cell_type": "markdown",
   "metadata": {},
   "source": [
    "**The major objective of the research is to determine the average frequency of illness and attitudes of mental health and how they vary by geographical location in the technology startups.**\n",
    "Another Objective that will be reviewed is the:\n",
    "1. What are the strongest predictors of mental health illness or certain attitudes towards mental health in the workplace?"
   ]
  },
  {
   "cell_type": "markdown",
   "metadata": {},
   "source": [
    "## Importing relevant libraries"
   ]
  },
  {
   "cell_type": "code",
   "execution_count": 1,
   "metadata": {},
   "outputs": [
    {
     "name": "stderr",
     "output_type": "stream",
     "text": [
      "Matplotlib is building the font cache; this may take a moment.\n"
     ]
    }
   ],
   "source": [
    "import sys\n",
    "import pandas as pd\n",
    "import seaborn as sns\n",
    "import numpy as np\n",
    "import matplotlib.pyplot as plt\n",
    "from matplotlib.pyplot import pie, axis, show\n",
    "\n",
    "# Display plots inline in the notebook\n",
    "%matplotlib inline "
   ]
  },
  {
   "cell_type": "markdown",
   "metadata": {},
   "source": [
    "### Loading our dataset"
   ]
  },
  {
   "cell_type": "code",
   "execution_count": 2,
   "metadata": {},
   "outputs": [],
   "source": [
    "survey=pd.read_csv(\"survey.csv\")"
   ]
  },
  {
   "cell_type": "markdown",
   "metadata": {},
   "source": [
    "### dataset decription"
   ]
  },
  {
   "cell_type": "markdown",
   "metadata": {},
   "source": [
    " \n",
    "**This dataset contains the following data:**\n",
    "1. Timestamp\n",
    "2. Age\n",
    "3. Gender\n",
    "4. Country\n",
    "5. state: If you live in the United States, which state or territory do you live in?\n",
    "6. self_employed: Are you self-employed?\n",
    "7. family_history: Do you have a family history of mental illness?\n",
    "8. treatment: Have you sought treatment for a mental health condition?\n",
    "9. work_interfere: If you have a mental health condition, do you feel that it interferes with your work?\n",
    "10. no_employees: How many employees does your company or organization have?\n",
    "11. remote_work: Do you work remotely (outside of an office) at least 50% of the time?\n",
    "12. tech_company: Is your employer primarily a tech company/organization?\n",
    "13. benefits: Does your employer provide mental health benefits?\n",
    "14. care_options: Do you know the options for mental health care your employer provides?\n",
    "15. wellness_program: Has your employer ever discussed mental health as part of an employee wellness program?\n",
    "16. seek_help: Does your employer provide resources to learn more about mental health issues and how to seek help?\n",
    "17. anonymity: Is your anonymity protected if you choose to take advantage of mental health or substance abuse treatment resources?\n",
    "18. leave: How easy is it for you to take medical leave for a mental health condition?\n",
    "19. Mental-health consequences: Do you think that discussing a mental health issue with your employer would have negative consequences?\n",
    "20. physhealthconsequence: Do you think that discussing a physical health issue with your employer would have negative consequences?\n",
    "22. coworkers: Would you be willing to discuss a mental health issue with your coworkers?\n",
    "23. supervisor: Would you be willing to discuss a mental health issue with your direct supervisor(s)?\n",
    "24. mentalhealthinterview: Would you bring up a mental health issue with a potential employer in an interview?\n",
    "25. physhealthinterview: Would you bring up a physical health issue with a potential employer in an interview?\n",
    "26. mentalvsphysical: Do you feel that your employer takes mental health as seriously as physical health?\n",
    "27. obs_consequence: Have you heard of or observed negative consequences for coworkers with mental health conditions in your workplace?\n",
    "28. comments: Any additional notes or comments\n"
   ]
  },
  {
   "cell_type": "markdown",
   "metadata": {},
   "source": [
    "### Data Exploration"
   ]
  },
  {
   "cell_type": "code",
   "execution_count": 3,
   "metadata": {},
   "outputs": [
    {
     "data": {
      "text/html": [
       "<div>\n",
       "<style scoped>\n",
       "    .dataframe tbody tr th:only-of-type {\n",
       "        vertical-align: middle;\n",
       "    }\n",
       "\n",
       "    .dataframe tbody tr th {\n",
       "        vertical-align: top;\n",
       "    }\n",
       "\n",
       "    .dataframe thead th {\n",
       "        text-align: right;\n",
       "    }\n",
       "</style>\n",
       "<table border=\"1\" class=\"dataframe\">\n",
       "  <thead>\n",
       "    <tr style=\"text-align: right;\">\n",
       "      <th></th>\n",
       "      <th>Timestamp</th>\n",
       "      <th>Age</th>\n",
       "      <th>Gender</th>\n",
       "      <th>Country</th>\n",
       "      <th>state</th>\n",
       "      <th>self_employed</th>\n",
       "      <th>family_history</th>\n",
       "      <th>treatment</th>\n",
       "      <th>work_interfere</th>\n",
       "      <th>no_employees</th>\n",
       "      <th>...</th>\n",
       "      <th>leave</th>\n",
       "      <th>mental_health_consequence</th>\n",
       "      <th>phys_health_consequence</th>\n",
       "      <th>coworkers</th>\n",
       "      <th>supervisor</th>\n",
       "      <th>mental_health_interview</th>\n",
       "      <th>phys_health_interview</th>\n",
       "      <th>mental_vs_physical</th>\n",
       "      <th>obs_consequence</th>\n",
       "      <th>comments</th>\n",
       "    </tr>\n",
       "  </thead>\n",
       "  <tbody>\n",
       "    <tr>\n",
       "      <th>0</th>\n",
       "      <td>2014-08-27 11:29:31</td>\n",
       "      <td>37</td>\n",
       "      <td>Female</td>\n",
       "      <td>United States</td>\n",
       "      <td>IL</td>\n",
       "      <td>NaN</td>\n",
       "      <td>No</td>\n",
       "      <td>Yes</td>\n",
       "      <td>Often</td>\n",
       "      <td>6-25</td>\n",
       "      <td>...</td>\n",
       "      <td>Somewhat easy</td>\n",
       "      <td>No</td>\n",
       "      <td>No</td>\n",
       "      <td>Some of them</td>\n",
       "      <td>Yes</td>\n",
       "      <td>No</td>\n",
       "      <td>Maybe</td>\n",
       "      <td>Yes</td>\n",
       "      <td>No</td>\n",
       "      <td>NaN</td>\n",
       "    </tr>\n",
       "    <tr>\n",
       "      <th>1</th>\n",
       "      <td>2014-08-27 11:29:37</td>\n",
       "      <td>44</td>\n",
       "      <td>M</td>\n",
       "      <td>United States</td>\n",
       "      <td>IN</td>\n",
       "      <td>NaN</td>\n",
       "      <td>No</td>\n",
       "      <td>No</td>\n",
       "      <td>Rarely</td>\n",
       "      <td>More than 1000</td>\n",
       "      <td>...</td>\n",
       "      <td>Don't know</td>\n",
       "      <td>Maybe</td>\n",
       "      <td>No</td>\n",
       "      <td>No</td>\n",
       "      <td>No</td>\n",
       "      <td>No</td>\n",
       "      <td>No</td>\n",
       "      <td>Don't know</td>\n",
       "      <td>No</td>\n",
       "      <td>NaN</td>\n",
       "    </tr>\n",
       "    <tr>\n",
       "      <th>2</th>\n",
       "      <td>2014-08-27 11:29:44</td>\n",
       "      <td>32</td>\n",
       "      <td>Male</td>\n",
       "      <td>Canada</td>\n",
       "      <td>NaN</td>\n",
       "      <td>NaN</td>\n",
       "      <td>No</td>\n",
       "      <td>No</td>\n",
       "      <td>Rarely</td>\n",
       "      <td>6-25</td>\n",
       "      <td>...</td>\n",
       "      <td>Somewhat difficult</td>\n",
       "      <td>No</td>\n",
       "      <td>No</td>\n",
       "      <td>Yes</td>\n",
       "      <td>Yes</td>\n",
       "      <td>Yes</td>\n",
       "      <td>Yes</td>\n",
       "      <td>No</td>\n",
       "      <td>No</td>\n",
       "      <td>NaN</td>\n",
       "    </tr>\n",
       "    <tr>\n",
       "      <th>3</th>\n",
       "      <td>2014-08-27 11:29:46</td>\n",
       "      <td>31</td>\n",
       "      <td>Male</td>\n",
       "      <td>United Kingdom</td>\n",
       "      <td>NaN</td>\n",
       "      <td>NaN</td>\n",
       "      <td>Yes</td>\n",
       "      <td>Yes</td>\n",
       "      <td>Often</td>\n",
       "      <td>26-100</td>\n",
       "      <td>...</td>\n",
       "      <td>Somewhat difficult</td>\n",
       "      <td>Yes</td>\n",
       "      <td>Yes</td>\n",
       "      <td>Some of them</td>\n",
       "      <td>No</td>\n",
       "      <td>Maybe</td>\n",
       "      <td>Maybe</td>\n",
       "      <td>No</td>\n",
       "      <td>Yes</td>\n",
       "      <td>NaN</td>\n",
       "    </tr>\n",
       "    <tr>\n",
       "      <th>4</th>\n",
       "      <td>2014-08-27 11:30:22</td>\n",
       "      <td>31</td>\n",
       "      <td>Male</td>\n",
       "      <td>United States</td>\n",
       "      <td>TX</td>\n",
       "      <td>NaN</td>\n",
       "      <td>No</td>\n",
       "      <td>No</td>\n",
       "      <td>Never</td>\n",
       "      <td>100-500</td>\n",
       "      <td>...</td>\n",
       "      <td>Don't know</td>\n",
       "      <td>No</td>\n",
       "      <td>No</td>\n",
       "      <td>Some of them</td>\n",
       "      <td>Yes</td>\n",
       "      <td>Yes</td>\n",
       "      <td>Yes</td>\n",
       "      <td>Don't know</td>\n",
       "      <td>No</td>\n",
       "      <td>NaN</td>\n",
       "    </tr>\n",
       "  </tbody>\n",
       "</table>\n",
       "<p>5 rows × 27 columns</p>\n",
       "</div>"
      ],
      "text/plain": [
       "             Timestamp  Age  Gender         Country state self_employed  \\\n",
       "0  2014-08-27 11:29:31   37  Female   United States    IL           NaN   \n",
       "1  2014-08-27 11:29:37   44       M   United States    IN           NaN   \n",
       "2  2014-08-27 11:29:44   32    Male          Canada   NaN           NaN   \n",
       "3  2014-08-27 11:29:46   31    Male  United Kingdom   NaN           NaN   \n",
       "4  2014-08-27 11:30:22   31    Male   United States    TX           NaN   \n",
       "\n",
       "  family_history treatment work_interfere    no_employees  ...  \\\n",
       "0             No       Yes          Often            6-25  ...   \n",
       "1             No        No         Rarely  More than 1000  ...   \n",
       "2             No        No         Rarely            6-25  ...   \n",
       "3            Yes       Yes          Often          26-100  ...   \n",
       "4             No        No          Never         100-500  ...   \n",
       "\n",
       "                leave mental_health_consequence phys_health_consequence  \\\n",
       "0       Somewhat easy                        No                      No   \n",
       "1          Don't know                     Maybe                      No   \n",
       "2  Somewhat difficult                        No                      No   \n",
       "3  Somewhat difficult                       Yes                     Yes   \n",
       "4          Don't know                        No                      No   \n",
       "\n",
       "      coworkers supervisor mental_health_interview phys_health_interview  \\\n",
       "0  Some of them        Yes                      No                 Maybe   \n",
       "1            No         No                      No                    No   \n",
       "2           Yes        Yes                     Yes                   Yes   \n",
       "3  Some of them         No                   Maybe                 Maybe   \n",
       "4  Some of them        Yes                     Yes                   Yes   \n",
       "\n",
       "  mental_vs_physical obs_consequence comments  \n",
       "0                Yes              No      NaN  \n",
       "1         Don't know              No      NaN  \n",
       "2                 No              No      NaN  \n",
       "3                 No             Yes      NaN  \n",
       "4         Don't know              No      NaN  \n",
       "\n",
       "[5 rows x 27 columns]"
      ]
     },
     "execution_count": 3,
     "metadata": {},
     "output_type": "execute_result"
    }
   ],
   "source": [
    "survey.head()"
   ]
  },
  {
   "cell_type": "code",
   "execution_count": 4,
   "metadata": {},
   "outputs": [
    {
     "data": {
      "text/html": [
       "<div>\n",
       "<style scoped>\n",
       "    .dataframe tbody tr th:only-of-type {\n",
       "        vertical-align: middle;\n",
       "    }\n",
       "\n",
       "    .dataframe tbody tr th {\n",
       "        vertical-align: top;\n",
       "    }\n",
       "\n",
       "    .dataframe thead th {\n",
       "        text-align: right;\n",
       "    }\n",
       "</style>\n",
       "<table border=\"1\" class=\"dataframe\">\n",
       "  <thead>\n",
       "    <tr style=\"text-align: right;\">\n",
       "      <th></th>\n",
       "      <th>Timestamp</th>\n",
       "      <th>Age</th>\n",
       "      <th>Gender</th>\n",
       "      <th>Country</th>\n",
       "      <th>state</th>\n",
       "      <th>self_employed</th>\n",
       "      <th>family_history</th>\n",
       "      <th>treatment</th>\n",
       "      <th>work_interfere</th>\n",
       "      <th>no_employees</th>\n",
       "      <th>...</th>\n",
       "      <th>leave</th>\n",
       "      <th>mental_health_consequence</th>\n",
       "      <th>phys_health_consequence</th>\n",
       "      <th>coworkers</th>\n",
       "      <th>supervisor</th>\n",
       "      <th>mental_health_interview</th>\n",
       "      <th>phys_health_interview</th>\n",
       "      <th>mental_vs_physical</th>\n",
       "      <th>obs_consequence</th>\n",
       "      <th>comments</th>\n",
       "    </tr>\n",
       "  </thead>\n",
       "  <tbody>\n",
       "    <tr>\n",
       "      <th>1254</th>\n",
       "      <td>2015-09-12 11:17:21</td>\n",
       "      <td>26</td>\n",
       "      <td>male</td>\n",
       "      <td>United Kingdom</td>\n",
       "      <td>NaN</td>\n",
       "      <td>No</td>\n",
       "      <td>No</td>\n",
       "      <td>Yes</td>\n",
       "      <td>NaN</td>\n",
       "      <td>26-100</td>\n",
       "      <td>...</td>\n",
       "      <td>Somewhat easy</td>\n",
       "      <td>No</td>\n",
       "      <td>No</td>\n",
       "      <td>Some of them</td>\n",
       "      <td>Some of them</td>\n",
       "      <td>No</td>\n",
       "      <td>No</td>\n",
       "      <td>Don't know</td>\n",
       "      <td>No</td>\n",
       "      <td>NaN</td>\n",
       "    </tr>\n",
       "    <tr>\n",
       "      <th>1255</th>\n",
       "      <td>2015-09-26 01:07:35</td>\n",
       "      <td>32</td>\n",
       "      <td>Male</td>\n",
       "      <td>United States</td>\n",
       "      <td>IL</td>\n",
       "      <td>No</td>\n",
       "      <td>Yes</td>\n",
       "      <td>Yes</td>\n",
       "      <td>Often</td>\n",
       "      <td>26-100</td>\n",
       "      <td>...</td>\n",
       "      <td>Somewhat difficult</td>\n",
       "      <td>No</td>\n",
       "      <td>No</td>\n",
       "      <td>Some of them</td>\n",
       "      <td>Yes</td>\n",
       "      <td>No</td>\n",
       "      <td>No</td>\n",
       "      <td>Yes</td>\n",
       "      <td>No</td>\n",
       "      <td>NaN</td>\n",
       "    </tr>\n",
       "    <tr>\n",
       "      <th>1256</th>\n",
       "      <td>2015-11-07 12:36:58</td>\n",
       "      <td>34</td>\n",
       "      <td>male</td>\n",
       "      <td>United States</td>\n",
       "      <td>CA</td>\n",
       "      <td>No</td>\n",
       "      <td>Yes</td>\n",
       "      <td>Yes</td>\n",
       "      <td>Sometimes</td>\n",
       "      <td>More than 1000</td>\n",
       "      <td>...</td>\n",
       "      <td>Somewhat difficult</td>\n",
       "      <td>Yes</td>\n",
       "      <td>Yes</td>\n",
       "      <td>No</td>\n",
       "      <td>No</td>\n",
       "      <td>No</td>\n",
       "      <td>No</td>\n",
       "      <td>No</td>\n",
       "      <td>No</td>\n",
       "      <td>NaN</td>\n",
       "    </tr>\n",
       "    <tr>\n",
       "      <th>1257</th>\n",
       "      <td>2015-11-30 21:25:06</td>\n",
       "      <td>46</td>\n",
       "      <td>f</td>\n",
       "      <td>United States</td>\n",
       "      <td>NC</td>\n",
       "      <td>No</td>\n",
       "      <td>No</td>\n",
       "      <td>No</td>\n",
       "      <td>NaN</td>\n",
       "      <td>100-500</td>\n",
       "      <td>...</td>\n",
       "      <td>Don't know</td>\n",
       "      <td>Yes</td>\n",
       "      <td>No</td>\n",
       "      <td>No</td>\n",
       "      <td>No</td>\n",
       "      <td>No</td>\n",
       "      <td>No</td>\n",
       "      <td>No</td>\n",
       "      <td>No</td>\n",
       "      <td>NaN</td>\n",
       "    </tr>\n",
       "    <tr>\n",
       "      <th>1258</th>\n",
       "      <td>2016-02-01 23:04:31</td>\n",
       "      <td>25</td>\n",
       "      <td>Male</td>\n",
       "      <td>United States</td>\n",
       "      <td>IL</td>\n",
       "      <td>No</td>\n",
       "      <td>Yes</td>\n",
       "      <td>Yes</td>\n",
       "      <td>Sometimes</td>\n",
       "      <td>26-100</td>\n",
       "      <td>...</td>\n",
       "      <td>Don't know</td>\n",
       "      <td>Maybe</td>\n",
       "      <td>No</td>\n",
       "      <td>Some of them</td>\n",
       "      <td>No</td>\n",
       "      <td>No</td>\n",
       "      <td>No</td>\n",
       "      <td>Don't know</td>\n",
       "      <td>No</td>\n",
       "      <td>NaN</td>\n",
       "    </tr>\n",
       "  </tbody>\n",
       "</table>\n",
       "<p>5 rows × 27 columns</p>\n",
       "</div>"
      ],
      "text/plain": [
       "                Timestamp  Age Gender         Country state self_employed  \\\n",
       "1254  2015-09-12 11:17:21   26   male  United Kingdom   NaN            No   \n",
       "1255  2015-09-26 01:07:35   32   Male   United States    IL            No   \n",
       "1256  2015-11-07 12:36:58   34   male   United States    CA            No   \n",
       "1257  2015-11-30 21:25:06   46      f   United States    NC            No   \n",
       "1258  2016-02-01 23:04:31   25   Male   United States    IL            No   \n",
       "\n",
       "     family_history treatment work_interfere    no_employees  ...  \\\n",
       "1254             No       Yes            NaN          26-100  ...   \n",
       "1255            Yes       Yes          Often          26-100  ...   \n",
       "1256            Yes       Yes      Sometimes  More than 1000  ...   \n",
       "1257             No        No            NaN         100-500  ...   \n",
       "1258            Yes       Yes      Sometimes          26-100  ...   \n",
       "\n",
       "                   leave mental_health_consequence phys_health_consequence  \\\n",
       "1254       Somewhat easy                        No                      No   \n",
       "1255  Somewhat difficult                        No                      No   \n",
       "1256  Somewhat difficult                       Yes                     Yes   \n",
       "1257          Don't know                       Yes                      No   \n",
       "1258          Don't know                     Maybe                      No   \n",
       "\n",
       "         coworkers    supervisor mental_health_interview  \\\n",
       "1254  Some of them  Some of them                      No   \n",
       "1255  Some of them           Yes                      No   \n",
       "1256            No            No                      No   \n",
       "1257            No            No                      No   \n",
       "1258  Some of them            No                      No   \n",
       "\n",
       "     phys_health_interview mental_vs_physical obs_consequence comments  \n",
       "1254                    No         Don't know              No      NaN  \n",
       "1255                    No                Yes              No      NaN  \n",
       "1256                    No                 No              No      NaN  \n",
       "1257                    No                 No              No      NaN  \n",
       "1258                    No         Don't know              No      NaN  \n",
       "\n",
       "[5 rows x 27 columns]"
      ]
     },
     "execution_count": 4,
     "metadata": {},
     "output_type": "execute_result"
    }
   ],
   "source": [
    "survey.tail()"
   ]
  },
  {
   "cell_type": "code",
   "execution_count": 5,
   "metadata": {},
   "outputs": [
    {
     "data": {
      "text/plain": [
       "(1259, 27)"
      ]
     },
     "execution_count": 5,
     "metadata": {},
     "output_type": "execute_result"
    }
   ],
   "source": [
    "survey.shape"
   ]
  },
  {
   "cell_type": "code",
   "execution_count": 6,
   "metadata": {},
   "outputs": [
    {
     "name": "stdout",
     "output_type": "stream",
     "text": [
      "<class 'pandas.core.frame.DataFrame'>\n",
      "RangeIndex: 1259 entries, 0 to 1258\n",
      "Data columns (total 27 columns):\n",
      " #   Column                     Non-Null Count  Dtype \n",
      "---  ------                     --------------  ----- \n",
      " 0   Timestamp                  1259 non-null   object\n",
      " 1   Age                        1259 non-null   int64 \n",
      " 2   Gender                     1259 non-null   object\n",
      " 3   Country                    1259 non-null   object\n",
      " 4   state                      744 non-null    object\n",
      " 5   self_employed              1241 non-null   object\n",
      " 6   family_history             1259 non-null   object\n",
      " 7   treatment                  1259 non-null   object\n",
      " 8   work_interfere             995 non-null    object\n",
      " 9   no_employees               1259 non-null   object\n",
      " 10  remote_work                1259 non-null   object\n",
      " 11  tech_company               1259 non-null   object\n",
      " 12  benefits                   1259 non-null   object\n",
      " 13  care_options               1259 non-null   object\n",
      " 14  wellness_program           1259 non-null   object\n",
      " 15  seek_help                  1259 non-null   object\n",
      " 16  anonymity                  1259 non-null   object\n",
      " 17  leave                      1259 non-null   object\n",
      " 18  mental_health_consequence  1259 non-null   object\n",
      " 19  phys_health_consequence    1259 non-null   object\n",
      " 20  coworkers                  1259 non-null   object\n",
      " 21  supervisor                 1259 non-null   object\n",
      " 22  mental_health_interview    1259 non-null   object\n",
      " 23  phys_health_interview      1259 non-null   object\n",
      " 24  mental_vs_physical         1259 non-null   object\n",
      " 25  obs_consequence            1259 non-null   object\n",
      " 26  comments                   164 non-null    object\n",
      "dtypes: int64(1), object(26)\n",
      "memory usage: 265.7+ KB\n"
     ]
    }
   ],
   "source": [
    "survey.info()"
   ]
  },
  {
   "cell_type": "code",
   "execution_count": 7,
   "metadata": {},
   "outputs": [
    {
     "data": {
      "text/plain": [
       "Timestamp                    object\n",
       "Age                           int64\n",
       "Gender                       object\n",
       "Country                      object\n",
       "state                        object\n",
       "self_employed                object\n",
       "family_history               object\n",
       "treatment                    object\n",
       "work_interfere               object\n",
       "no_employees                 object\n",
       "remote_work                  object\n",
       "tech_company                 object\n",
       "benefits                     object\n",
       "care_options                 object\n",
       "wellness_program             object\n",
       "seek_help                    object\n",
       "anonymity                    object\n",
       "leave                        object\n",
       "mental_health_consequence    object\n",
       "phys_health_consequence      object\n",
       "coworkers                    object\n",
       "supervisor                   object\n",
       "mental_health_interview      object\n",
       "phys_health_interview        object\n",
       "mental_vs_physical           object\n",
       "obs_consequence              object\n",
       "comments                     object\n",
       "dtype: object"
      ]
     },
     "execution_count": 7,
     "metadata": {},
     "output_type": "execute_result"
    }
   ],
   "source": [
    "survey.dtypes"
   ]
  },
  {
   "cell_type": "code",
   "execution_count": 9,
   "metadata": {},
   "outputs": [
    {
     "data": {
      "text/html": [
       "<div>\n",
       "<style scoped>\n",
       "    .dataframe tbody tr th:only-of-type {\n",
       "        vertical-align: middle;\n",
       "    }\n",
       "\n",
       "    .dataframe tbody tr th {\n",
       "        vertical-align: top;\n",
       "    }\n",
       "\n",
       "    .dataframe thead th {\n",
       "        text-align: right;\n",
       "    }\n",
       "</style>\n",
       "<table border=\"1\" class=\"dataframe\">\n",
       "  <thead>\n",
       "    <tr style=\"text-align: right;\">\n",
       "      <th></th>\n",
       "      <th>Timestamp</th>\n",
       "      <th>Age</th>\n",
       "      <th>Gender</th>\n",
       "      <th>Country</th>\n",
       "      <th>state</th>\n",
       "      <th>self_employed</th>\n",
       "      <th>family_history</th>\n",
       "      <th>treatment</th>\n",
       "      <th>work_interfere</th>\n",
       "      <th>no_employees</th>\n",
       "      <th>...</th>\n",
       "      <th>leave</th>\n",
       "      <th>mental_health_consequence</th>\n",
       "      <th>phys_health_consequence</th>\n",
       "      <th>coworkers</th>\n",
       "      <th>supervisor</th>\n",
       "      <th>mental_health_interview</th>\n",
       "      <th>phys_health_interview</th>\n",
       "      <th>mental_vs_physical</th>\n",
       "      <th>obs_consequence</th>\n",
       "      <th>comments</th>\n",
       "    </tr>\n",
       "  </thead>\n",
       "  <tbody>\n",
       "    <tr>\n",
       "      <th>count</th>\n",
       "      <td>1259</td>\n",
       "      <td>1.259000e+03</td>\n",
       "      <td>1259</td>\n",
       "      <td>1259</td>\n",
       "      <td>744</td>\n",
       "      <td>1241</td>\n",
       "      <td>1259</td>\n",
       "      <td>1259</td>\n",
       "      <td>995</td>\n",
       "      <td>1259</td>\n",
       "      <td>...</td>\n",
       "      <td>1259</td>\n",
       "      <td>1259</td>\n",
       "      <td>1259</td>\n",
       "      <td>1259</td>\n",
       "      <td>1259</td>\n",
       "      <td>1259</td>\n",
       "      <td>1259</td>\n",
       "      <td>1259</td>\n",
       "      <td>1259</td>\n",
       "      <td>164</td>\n",
       "    </tr>\n",
       "    <tr>\n",
       "      <th>unique</th>\n",
       "      <td>1246</td>\n",
       "      <td>NaN</td>\n",
       "      <td>49</td>\n",
       "      <td>48</td>\n",
       "      <td>45</td>\n",
       "      <td>2</td>\n",
       "      <td>2</td>\n",
       "      <td>2</td>\n",
       "      <td>4</td>\n",
       "      <td>6</td>\n",
       "      <td>...</td>\n",
       "      <td>5</td>\n",
       "      <td>3</td>\n",
       "      <td>3</td>\n",
       "      <td>3</td>\n",
       "      <td>3</td>\n",
       "      <td>3</td>\n",
       "      <td>3</td>\n",
       "      <td>3</td>\n",
       "      <td>2</td>\n",
       "      <td>160</td>\n",
       "    </tr>\n",
       "    <tr>\n",
       "      <th>top</th>\n",
       "      <td>2014-08-27 14:22:43</td>\n",
       "      <td>NaN</td>\n",
       "      <td>Male</td>\n",
       "      <td>United States</td>\n",
       "      <td>CA</td>\n",
       "      <td>No</td>\n",
       "      <td>No</td>\n",
       "      <td>Yes</td>\n",
       "      <td>Sometimes</td>\n",
       "      <td>6-25</td>\n",
       "      <td>...</td>\n",
       "      <td>Don't know</td>\n",
       "      <td>No</td>\n",
       "      <td>No</td>\n",
       "      <td>Some of them</td>\n",
       "      <td>Yes</td>\n",
       "      <td>No</td>\n",
       "      <td>Maybe</td>\n",
       "      <td>Don't know</td>\n",
       "      <td>No</td>\n",
       "      <td>* Small family business - YMMV.</td>\n",
       "    </tr>\n",
       "    <tr>\n",
       "      <th>freq</th>\n",
       "      <td>2</td>\n",
       "      <td>NaN</td>\n",
       "      <td>615</td>\n",
       "      <td>751</td>\n",
       "      <td>138</td>\n",
       "      <td>1095</td>\n",
       "      <td>767</td>\n",
       "      <td>637</td>\n",
       "      <td>465</td>\n",
       "      <td>290</td>\n",
       "      <td>...</td>\n",
       "      <td>563</td>\n",
       "      <td>490</td>\n",
       "      <td>925</td>\n",
       "      <td>774</td>\n",
       "      <td>516</td>\n",
       "      <td>1008</td>\n",
       "      <td>557</td>\n",
       "      <td>576</td>\n",
       "      <td>1075</td>\n",
       "      <td>5</td>\n",
       "    </tr>\n",
       "    <tr>\n",
       "      <th>mean</th>\n",
       "      <td>NaN</td>\n",
       "      <td>7.942815e+07</td>\n",
       "      <td>NaN</td>\n",
       "      <td>NaN</td>\n",
       "      <td>NaN</td>\n",
       "      <td>NaN</td>\n",
       "      <td>NaN</td>\n",
       "      <td>NaN</td>\n",
       "      <td>NaN</td>\n",
       "      <td>NaN</td>\n",
       "      <td>...</td>\n",
       "      <td>NaN</td>\n",
       "      <td>NaN</td>\n",
       "      <td>NaN</td>\n",
       "      <td>NaN</td>\n",
       "      <td>NaN</td>\n",
       "      <td>NaN</td>\n",
       "      <td>NaN</td>\n",
       "      <td>NaN</td>\n",
       "      <td>NaN</td>\n",
       "      <td>NaN</td>\n",
       "    </tr>\n",
       "    <tr>\n",
       "      <th>std</th>\n",
       "      <td>NaN</td>\n",
       "      <td>2.818299e+09</td>\n",
       "      <td>NaN</td>\n",
       "      <td>NaN</td>\n",
       "      <td>NaN</td>\n",
       "      <td>NaN</td>\n",
       "      <td>NaN</td>\n",
       "      <td>NaN</td>\n",
       "      <td>NaN</td>\n",
       "      <td>NaN</td>\n",
       "      <td>...</td>\n",
       "      <td>NaN</td>\n",
       "      <td>NaN</td>\n",
       "      <td>NaN</td>\n",
       "      <td>NaN</td>\n",
       "      <td>NaN</td>\n",
       "      <td>NaN</td>\n",
       "      <td>NaN</td>\n",
       "      <td>NaN</td>\n",
       "      <td>NaN</td>\n",
       "      <td>NaN</td>\n",
       "    </tr>\n",
       "    <tr>\n",
       "      <th>min</th>\n",
       "      <td>NaN</td>\n",
       "      <td>-1.726000e+03</td>\n",
       "      <td>NaN</td>\n",
       "      <td>NaN</td>\n",
       "      <td>NaN</td>\n",
       "      <td>NaN</td>\n",
       "      <td>NaN</td>\n",
       "      <td>NaN</td>\n",
       "      <td>NaN</td>\n",
       "      <td>NaN</td>\n",
       "      <td>...</td>\n",
       "      <td>NaN</td>\n",
       "      <td>NaN</td>\n",
       "      <td>NaN</td>\n",
       "      <td>NaN</td>\n",
       "      <td>NaN</td>\n",
       "      <td>NaN</td>\n",
       "      <td>NaN</td>\n",
       "      <td>NaN</td>\n",
       "      <td>NaN</td>\n",
       "      <td>NaN</td>\n",
       "    </tr>\n",
       "    <tr>\n",
       "      <th>25%</th>\n",
       "      <td>NaN</td>\n",
       "      <td>2.700000e+01</td>\n",
       "      <td>NaN</td>\n",
       "      <td>NaN</td>\n",
       "      <td>NaN</td>\n",
       "      <td>NaN</td>\n",
       "      <td>NaN</td>\n",
       "      <td>NaN</td>\n",
       "      <td>NaN</td>\n",
       "      <td>NaN</td>\n",
       "      <td>...</td>\n",
       "      <td>NaN</td>\n",
       "      <td>NaN</td>\n",
       "      <td>NaN</td>\n",
       "      <td>NaN</td>\n",
       "      <td>NaN</td>\n",
       "      <td>NaN</td>\n",
       "      <td>NaN</td>\n",
       "      <td>NaN</td>\n",
       "      <td>NaN</td>\n",
       "      <td>NaN</td>\n",
       "    </tr>\n",
       "    <tr>\n",
       "      <th>50%</th>\n",
       "      <td>NaN</td>\n",
       "      <td>3.100000e+01</td>\n",
       "      <td>NaN</td>\n",
       "      <td>NaN</td>\n",
       "      <td>NaN</td>\n",
       "      <td>NaN</td>\n",
       "      <td>NaN</td>\n",
       "      <td>NaN</td>\n",
       "      <td>NaN</td>\n",
       "      <td>NaN</td>\n",
       "      <td>...</td>\n",
       "      <td>NaN</td>\n",
       "      <td>NaN</td>\n",
       "      <td>NaN</td>\n",
       "      <td>NaN</td>\n",
       "      <td>NaN</td>\n",
       "      <td>NaN</td>\n",
       "      <td>NaN</td>\n",
       "      <td>NaN</td>\n",
       "      <td>NaN</td>\n",
       "      <td>NaN</td>\n",
       "    </tr>\n",
       "    <tr>\n",
       "      <th>75%</th>\n",
       "      <td>NaN</td>\n",
       "      <td>3.600000e+01</td>\n",
       "      <td>NaN</td>\n",
       "      <td>NaN</td>\n",
       "      <td>NaN</td>\n",
       "      <td>NaN</td>\n",
       "      <td>NaN</td>\n",
       "      <td>NaN</td>\n",
       "      <td>NaN</td>\n",
       "      <td>NaN</td>\n",
       "      <td>...</td>\n",
       "      <td>NaN</td>\n",
       "      <td>NaN</td>\n",
       "      <td>NaN</td>\n",
       "      <td>NaN</td>\n",
       "      <td>NaN</td>\n",
       "      <td>NaN</td>\n",
       "      <td>NaN</td>\n",
       "      <td>NaN</td>\n",
       "      <td>NaN</td>\n",
       "      <td>NaN</td>\n",
       "    </tr>\n",
       "    <tr>\n",
       "      <th>max</th>\n",
       "      <td>NaN</td>\n",
       "      <td>1.000000e+11</td>\n",
       "      <td>NaN</td>\n",
       "      <td>NaN</td>\n",
       "      <td>NaN</td>\n",
       "      <td>NaN</td>\n",
       "      <td>NaN</td>\n",
       "      <td>NaN</td>\n",
       "      <td>NaN</td>\n",
       "      <td>NaN</td>\n",
       "      <td>...</td>\n",
       "      <td>NaN</td>\n",
       "      <td>NaN</td>\n",
       "      <td>NaN</td>\n",
       "      <td>NaN</td>\n",
       "      <td>NaN</td>\n",
       "      <td>NaN</td>\n",
       "      <td>NaN</td>\n",
       "      <td>NaN</td>\n",
       "      <td>NaN</td>\n",
       "      <td>NaN</td>\n",
       "    </tr>\n",
       "  </tbody>\n",
       "</table>\n",
       "<p>11 rows × 27 columns</p>\n",
       "</div>"
      ],
      "text/plain": [
       "                  Timestamp           Age Gender        Country state  \\\n",
       "count                  1259  1.259000e+03   1259           1259   744   \n",
       "unique                 1246           NaN     49             48    45   \n",
       "top     2014-08-27 14:22:43           NaN   Male  United States    CA   \n",
       "freq                      2           NaN    615            751   138   \n",
       "mean                    NaN  7.942815e+07    NaN            NaN   NaN   \n",
       "std                     NaN  2.818299e+09    NaN            NaN   NaN   \n",
       "min                     NaN -1.726000e+03    NaN            NaN   NaN   \n",
       "25%                     NaN  2.700000e+01    NaN            NaN   NaN   \n",
       "50%                     NaN  3.100000e+01    NaN            NaN   NaN   \n",
       "75%                     NaN  3.600000e+01    NaN            NaN   NaN   \n",
       "max                     NaN  1.000000e+11    NaN            NaN   NaN   \n",
       "\n",
       "       self_employed family_history treatment work_interfere no_employees  \\\n",
       "count           1241           1259      1259            995         1259   \n",
       "unique             2              2         2              4            6   \n",
       "top               No             No       Yes      Sometimes         6-25   \n",
       "freq            1095            767       637            465          290   \n",
       "mean             NaN            NaN       NaN            NaN          NaN   \n",
       "std              NaN            NaN       NaN            NaN          NaN   \n",
       "min              NaN            NaN       NaN            NaN          NaN   \n",
       "25%              NaN            NaN       NaN            NaN          NaN   \n",
       "50%              NaN            NaN       NaN            NaN          NaN   \n",
       "75%              NaN            NaN       NaN            NaN          NaN   \n",
       "max              NaN            NaN       NaN            NaN          NaN   \n",
       "\n",
       "        ...       leave mental_health_consequence phys_health_consequence  \\\n",
       "count   ...        1259                      1259                    1259   \n",
       "unique  ...           5                         3                       3   \n",
       "top     ...  Don't know                        No                      No   \n",
       "freq    ...         563                       490                     925   \n",
       "mean    ...         NaN                       NaN                     NaN   \n",
       "std     ...         NaN                       NaN                     NaN   \n",
       "min     ...         NaN                       NaN                     NaN   \n",
       "25%     ...         NaN                       NaN                     NaN   \n",
       "50%     ...         NaN                       NaN                     NaN   \n",
       "75%     ...         NaN                       NaN                     NaN   \n",
       "max     ...         NaN                       NaN                     NaN   \n",
       "\n",
       "           coworkers supervisor mental_health_interview phys_health_interview  \\\n",
       "count           1259       1259                    1259                  1259   \n",
       "unique             3          3                       3                     3   \n",
       "top     Some of them        Yes                      No                 Maybe   \n",
       "freq             774        516                    1008                   557   \n",
       "mean             NaN        NaN                     NaN                   NaN   \n",
       "std              NaN        NaN                     NaN                   NaN   \n",
       "min              NaN        NaN                     NaN                   NaN   \n",
       "25%              NaN        NaN                     NaN                   NaN   \n",
       "50%              NaN        NaN                     NaN                   NaN   \n",
       "75%              NaN        NaN                     NaN                   NaN   \n",
       "max              NaN        NaN                     NaN                   NaN   \n",
       "\n",
       "       mental_vs_physical obs_consequence                         comments  \n",
       "count                1259            1259                              164  \n",
       "unique                  3               2                              160  \n",
       "top            Don't know              No  * Small family business - YMMV.  \n",
       "freq                  576            1075                                5  \n",
       "mean                  NaN             NaN                              NaN  \n",
       "std                   NaN             NaN                              NaN  \n",
       "min                   NaN             NaN                              NaN  \n",
       "25%                   NaN             NaN                              NaN  \n",
       "50%                   NaN             NaN                              NaN  \n",
       "75%                   NaN             NaN                              NaN  \n",
       "max                   NaN             NaN                              NaN  \n",
       "\n",
       "[11 rows x 27 columns]"
      ]
     },
     "execution_count": 9,
     "metadata": {},
     "output_type": "execute_result"
    }
   ],
   "source": [
    "survey.describe(include=\"all\")"
   ]
  },
  {
   "cell_type": "markdown",
   "metadata": {},
   "source": [
    "## Data Cleaning"
   ]
  },
  {
   "cell_type": "code",
   "execution_count": 13,
   "metadata": {},
   "outputs": [],
   "source": [
    "##lowercasing all columns to lower case\n",
    "survey.columns = map(str.lower, survey.columns)\n"
   ]
  },
  {
   "cell_type": "code",
   "execution_count": 15,
   "metadata": {},
   "outputs": [],
   "source": [
    "## Convert \"timestamp\" to datetime\n",
    "survey['timestamp'] = pd.to_datetime(survey['timestamp'])\n",
    "\n"
   ]
  },
  {
   "cell_type": "markdown",
   "metadata": {},
   "source": [
    "#### checking for null values"
   ]
  },
  {
   "cell_type": "code",
   "execution_count": 17,
   "metadata": {},
   "outputs": [
    {
     "data": {
      "text/plain": [
       "timestamp                       0\n",
       "age                             0\n",
       "gender                          0\n",
       "country                         0\n",
       "state                         515\n",
       "self_employed                  18\n",
       "family_history                  0\n",
       "treatment                       0\n",
       "work_interfere                264\n",
       "no_employees                    0\n",
       "remote_work                     0\n",
       "tech_company                    0\n",
       "benefits                        0\n",
       "care_options                    0\n",
       "wellness_program                0\n",
       "seek_help                       0\n",
       "anonymity                       0\n",
       "leave                           0\n",
       "mental_health_consequence       0\n",
       "phys_health_consequence         0\n",
       "coworkers                       0\n",
       "supervisor                      0\n",
       "mental_health_interview         0\n",
       "phys_health_interview           0\n",
       "mental_vs_physical              0\n",
       "obs_consequence                 0\n",
       "comments                     1095\n",
       "dtype: int64"
      ]
     },
     "execution_count": 17,
     "metadata": {},
     "output_type": "execute_result"
    }
   ],
   "source": [
    "survey.isnull().sum()"
   ]
  },
  {
   "cell_type": "code",
   "execution_count": 18,
   "metadata": {},
   "outputs": [],
   "source": [
    "##dropping null values\n",
    "survey.dropna(inplace=True)"
   ]
  },
  {
   "cell_type": "code",
   "execution_count": 20,
   "metadata": {},
   "outputs": [
    {
     "data": {
      "text/plain": [
       "0"
      ]
     },
     "execution_count": 20,
     "metadata": {},
     "output_type": "execute_result"
    }
   ],
   "source": [
    "##checking for duplicates\n",
    "survey.duplicated().sum()"
   ]
  },
  {
   "cell_type": "code",
   "execution_count": null,
   "metadata": {},
   "outputs": [],
   "source": [
    "##dropping unnecessary columns\n"
   ]
  },
  {
   "cell_type": "code",
   "execution_count": 25,
   "metadata": {},
   "outputs": [
    {
     "name": "stdout",
     "output_type": "stream",
     "text": [
      "'Age'\n",
      "Minimum value:  8.0\n",
      "Maximum value:  56.0\n",
      "Frequency table for age_clean:\n"
     ]
    },
    {
     "data": {
      "text/plain": [
       "8.0     1\n",
       "21.0    1\n",
       "23.0    2\n",
       "25.0    3\n",
       "26.0    3\n",
       "27.0    7\n",
       "29.0    1\n",
       "30.0    6\n",
       "31.0    2\n",
       "32.0    3\n",
       "33.0    4\n",
       "34.0    7\n",
       "35.0    8\n",
       "36.0    2\n",
       "37.0    3\n",
       "38.0    6\n",
       "39.0    4\n",
       "40.0    5\n",
       "41.0    2\n",
       "42.0    2\n",
       "43.0    4\n",
       "44.0    1\n",
       "45.0    1\n",
       "46.0    1\n",
       "48.0    1\n",
       "49.0    1\n",
       "50.0    2\n",
       "55.0    1\n",
       "56.0    1\n",
       "Name: age_clean, dtype: int64"
      ]
     },
     "execution_count": 25,
     "metadata": {},
     "output_type": "execute_result"
    }
   ],
   "source": [
    "##remove age outliers\n",
    "def clean_age(age):\n",
    "    if age>=0 and age<=123:\n",
    "        return age\n",
    "    else:\n",
    "        return np.nan\n",
    "survey['age_clean'] = survey['age'].apply(clean_age)\n",
    "# Check out the new column and make sure it looks right\n",
    "\n",
    "print(\"'Age'\")\n",
    "print(\"Minimum value: \", survey[\"age_clean\"].min())\n",
    "print(\"Maximum value: \", survey[\"age_clean\"].max())\n",
    "print(\"Frequency table for age_clean:\")\n",
    "survey[\"age_clean\"].value_counts().sort_index(0)"
   ]
  },
  {
   "cell_type": "markdown",
   "metadata": {},
   "source": [
    "## Sampling Method\n"
   ]
  },
  {
   "cell_type": "code",
   "execution_count": 26,
   "metadata": {},
   "outputs": [
    {
     "data": {
      "text/plain": [
       "Yes    71\n",
       "No     15\n",
       "Name: tech_company, dtype: int64"
      ]
     },
     "execution_count": 26,
     "metadata": {},
     "output_type": "execute_result"
    }
   ],
   "source": [
    "## Stratified sampling\n",
    "survey['tech_company'].value_counts()"
   ]
  },
  {
   "cell_type": "code",
   "execution_count": 27,
   "metadata": {},
   "outputs": [
    {
     "name": "stdout",
     "output_type": "stream",
     "text": [
      "Yes    53\n",
      "No     11\n",
      "Name: tech_company, dtype: int64\n",
      "               timestamp  age  gender        country state self_employed  \\\n",
      "793  2014-08-28 13:08:36   35  Female  United States    LA            No   \n",
      "579  2014-08-27 21:15:09   34    Male  United States    IL            No   \n",
      "756  2014-08-28 11:27:56   38       f  United States    NC            No   \n",
      "930  2014-08-28 21:41:53   35  Female  United States    GA            No   \n",
      "346  2014-08-27 14:45:12   23    Male  United States    AL            No   \n",
      "...                  ...  ...     ...            ...   ...           ...   \n",
      "1190 2015-01-03 03:38:30   44       M  United States    OH            No   \n",
      "231  2014-08-27 13:23:38   41    Male  United States    TX            No   \n",
      "1127 2014-08-30 20:55:11   -1       p  United States    AL           Yes   \n",
      "158  2014-08-27 12:43:28   27    male  United States    UT            No   \n",
      "45   2014-08-27 11:43:36   38  Female  United States    TX            No   \n",
      "\n",
      "     family_history treatment work_interfere no_employees  ...  \\\n",
      "793              No       Yes      Sometimes      100-500  ...   \n",
      "579             Yes       Yes      Sometimes       26-100  ...   \n",
      "756             Yes       Yes      Sometimes       26-100  ...   \n",
      "930             Yes       Yes      Sometimes         6-25  ...   \n",
      "346             Yes       Yes      Sometimes      100-500  ...   \n",
      "...             ...       ...            ...          ...  ...   \n",
      "1190            Yes       Yes      Sometimes      100-500  ...   \n",
      "231              No       Yes         Rarely     500-1000  ...   \n",
      "1127            Yes       Yes          Often          1-5  ...   \n",
      "158              No       Yes         Rarely       26-100  ...   \n",
      "45              Yes       Yes      Sometimes       26-100  ...   \n",
      "\n",
      "     mental_health_consequence phys_health_consequence     coworkers  \\\n",
      "793                        Yes                   Maybe            No   \n",
      "579                      Maybe                      No  Some of them   \n",
      "756                      Maybe                      No            No   \n",
      "930                      Maybe                   Maybe  Some of them   \n",
      "346                         No                      No           Yes   \n",
      "...                        ...                     ...           ...   \n",
      "1190                     Maybe                      No  Some of them   \n",
      "231                      Maybe                   Maybe  Some of them   \n",
      "1127                       Yes                     Yes           Yes   \n",
      "158                      Maybe                      No  Some of them   \n",
      "45                          No                      No  Some of them   \n",
      "\n",
      "        supervisor mental_health_interview phys_health_interview  \\\n",
      "793   Some of them                      No                   Yes   \n",
      "579   Some of them                      No                 Maybe   \n",
      "756             No                      No                    No   \n",
      "930            Yes                      No                 Maybe   \n",
      "346            Yes                   Maybe                   Yes   \n",
      "...            ...                     ...                   ...   \n",
      "1190  Some of them                      No                    No   \n",
      "231             No                   Maybe                 Maybe   \n",
      "1127           Yes                     Yes                   Yes   \n",
      "158            Yes                      No                    No   \n",
      "45             Yes                      No                    No   \n",
      "\n",
      "     mental_vs_physical obs_consequence  \\\n",
      "793                  No             Yes   \n",
      "579          Don't know              No   \n",
      "756          Don't know              No   \n",
      "930                 Yes              No   \n",
      "346          Don't know              No   \n",
      "...                 ...             ...   \n",
      "1190         Don't know              No   \n",
      "231                  No              No   \n",
      "1127                Yes             Yes   \n",
      "158          Don't know             Yes   \n",
      "45                  Yes              No   \n",
      "\n",
      "                                               comments age_clean  \n",
      "793   I work for the state government. While things ...      35.0  \n",
      "579   Thanks for doing this. It will help end the st...      34.0  \n",
      "756   I work for the state so the health plan is lar...      38.0  \n",
      "930                     * Small family business - YMMV.      35.0  \n",
      "346   YOU MAY WANT TO THROW OUT MY ENTRY.I answered ...      23.0  \n",
      "...                                                 ...       ...  \n",
      "1190  My mental health issues were the direct result...      44.0  \n",
      "231   I found it difficult to answer all of the ques...      41.0  \n",
      "1127                                 password: testered       NaN  \n",
      "158   Had a co-worker disappear from work for a few ...      27.0  \n",
      "45    Our health plan has covered my psychotherapy a...      38.0  \n",
      "\n",
      "[64 rows x 28 columns]\n"
     ]
    }
   ],
   "source": [
    "# In our case, we are going to applies a function that puts each subset into a random sample with a size of 749 with a confidence interval 0f 5 and confidence level of 99%.\n",
    "#The beauty about this method is that it strictly maintains the populations proportion.\n",
    "\n",
    "# Stratified sample\n",
    "strat_output = survey.groupby('tech_company', group_keys=False).apply(lambda grouped_subset : grouped_subset.sample(frac=0.749))\n",
    "\n",
    "# proportion of the non_stratified sample\n",
    "print(strat_output['tech_company'].value_counts())\n",
    "\n",
    "# Check the stratified output\n",
    "print(strat_output)"
   ]
  },
  {
   "cell_type": "code",
   "execution_count": 28,
   "metadata": {},
   "outputs": [
    {
     "data": {
      "text/plain": [
       "age          76.700149\n",
       "age_clean    57.487455\n",
       "dtype: float64"
      ]
     },
     "execution_count": 28,
     "metadata": {},
     "output_type": "execute_result"
    }
   ],
   "source": [
    "strat_output.var()"
   ]
  },
  {
   "cell_type": "markdown",
   "metadata": {},
   "source": [
    "## Analyis"
   ]
  },
  {
   "cell_type": "code",
   "execution_count": 30,
   "metadata": {},
   "outputs": [
    {
     "data": {
      "image/png": "[encoded data removed]",
      "text/plain": [
       "<Figure size 576x396 with 1 Axes>"
      ]
     },
     "metadata": {},
     "output_type": "display_data"
    }
   ],
   "source": [
    "## View the age distribution of the sample¶\n",
    "\n",
    "sns.set(color_codes=True)\n",
    "sns.set_palette(sns.color_palette(\"muted\"))\n",
    "\n",
    "sns.distplot(strat_output[\"age_clean\"].dropna());\n",
    "# Peak between mid-20s to about mid-40s."
   ]
  },
  {
   "cell_type": "code",
   "execution_count": 31,
   "metadata": {},
   "outputs": [
    {
     "data": {
      "text/plain": [
       "<AxesSubplot:>"
      ]
     },
     "execution_count": 31,
     "metadata": {},
     "output_type": "execute_result"
    },
    {
     "data": {
      "image/png": "[encoded data removed]",
      "text/plain": [
       "<Figure size 576x396 with 1 Axes>"
      ]
     },
     "metadata": {},
     "output_type": "display_data"
    }
   ],
   "source": [
    "##View the gender distribution of the sample¶\n",
    "\n",
    "\n",
    "strat_output['gender'].value_counts().plot(kind='bar')"
   ]
  },
  {
   "cell_type": "markdown",
   "metadata": {},
   "source": [
    "#### Observations\n",
    "1. The large majority of those that are affected by Mental illness are  Male "
   ]
  },
  {
   "cell_type": "code",
   "execution_count": 33,
   "metadata": {},
   "outputs": [
    {
     "name": "stdout",
     "output_type": "stream",
     "text": [
      "Pearson:                 treatment  work_interfere\n",
      "treatment        1.000000        0.392272\n",
      "work_interfere   0.392272        1.000000\n",
      "\n",
      "Spearman:                 treatment  work_interfere\n",
      "treatment        1.000000        0.291244\n",
      "work_interfere   0.291244        1.000000\n",
      "\n",
      "Kendall:                 treatment  work_interfere\n",
      "treatment        1.000000        0.275401\n",
      "work_interfere   0.275401        1.000000\n"
     ]
    }
   ],
   "source": [
    "## correlation between treatment and workinterference\n",
    "# Create a new dataframe with the two columns and assign numbers in place of their categories\n",
    "\n",
    "df = pd.DataFrame({'treatment': strat_output['treatment'], 'work_interfere': strat_output['work_interfere']}, dtype='category')\n",
    "df_num = df.apply(lambda x: x.cat.codes)\n",
    "\n",
    "# Run a correlation calculation \n",
    "print(\"Pearson:\", df_num.corr())\n",
    "print(\"\")\n",
    "print(\"Spearman:\", df_num.corr('spearman'))\n",
    "print(\"\")\n",
    "print(\"Kendall:\", df_num.corr('kendall'))"
   ]
  },
  {
   "cell_type": "code",
   "execution_count": 34,
   "metadata": {},
   "outputs": [
    {
     "data": {
      "image/png": "[encoded data removed]",
      "text/plain": [
       "<Figure size 720x504 with 1 Axes>"
      ]
     },
     "metadata": {},
     "output_type": "display_data"
    }
   ],
   "source": [
    "## mental health benefits v. seeking treatment¶\n",
    "#employee is seeking treatment for a mental health condition appears to be correlated with their knowledge of their employer's mental health benefits.\n",
    "plt.figure(figsize=(10,7))\n",
    "sns.countplot(x=\"benefits\", hue=\"treatment\", hue_order = [\"Yes\", \"No\"], data=strat_output)\n",
    "plt.title(\"Does your employer provide mental health benefits?\",fontsize=16)\n",
    "plt.suptitle(\"Seeking Treatment v. Work Benefits\", fontsize=20)\n",
    "plt.xlabel(\"\")\n",
    "plt.show()"
   ]
  },
  {
   "cell_type": "code",
   "execution_count": 35,
   "metadata": {},
   "outputs": [
    {
     "data": {
      "image/png": "[encoded data removed]",
      "text/plain": [
       "<Figure size 720x504 with 1 Axes>"
      ]
     },
     "metadata": {},
     "output_type": "display_data"
    }
   ],
   "source": [
    "## chart comparing mental health benefits and treatment\n",
    "plt.figure(figsize=(10,7))\n",
    "sns.countplot(x=\"treatment\", hue=\"benefits\", hue_order = [\"Yes\", \"No\", \"Don't know\"], data=strat_output)\n",
    "plt.suptitle(\"Seeking Treatment v. Work Benefits  (Inverted)\", fontsize=20)\n",
    "plt.title(\"Have you sought treatment for a mental health condition?\",fontsize=16)\n",
    "plt.xlabel(\"\")\n",
    "plt.ylabel(\"\")\n",
    "plt.show()"
   ]
  },
  {
   "cell_type": "code",
   "execution_count": 36,
   "metadata": {},
   "outputs": [
    {
     "data": {
      "image/png": "[encoded data removed]",
      "text/plain": [
       "<Figure size 720x504 with 1 Axes>"
      ]
     },
     "metadata": {},
     "output_type": "display_data"
    }
   ],
   "source": [
    "## family history v. seeking treatment\n",
    "plt.figure(figsize=(10,7))\n",
    "sns.countplot(x=\"family_history\", hue=\"treatment\", hue_order = [\"Yes\", \"No\"], data=strat_output)\n",
    "plt.suptitle(\"Family History v. Seeking Treatment\", fontsize=20)\n",
    "plt.title(\"Do you have a family history of mental illness?\", fontsize=16)\n",
    "plt.xlabel(\"\")\n",
    "plt.ylabel(\"\")\n",
    "plt.show()\n"
   ]
  },
  {
   "cell_type": "code",
   "execution_count": 38,
   "metadata": {},
   "outputs": [
    {
     "data": {
      "text/html": [
       "<div>\n",
       "<style scoped>\n",
       "    .dataframe tbody tr th:only-of-type {\n",
       "        vertical-align: middle;\n",
       "    }\n",
       "\n",
       "    .dataframe tbody tr th {\n",
       "        vertical-align: top;\n",
       "    }\n",
       "\n",
       "    .dataframe thead th {\n",
       "        text-align: right;\n",
       "    }\n",
       "</style>\n",
       "<table border=\"1\" class=\"dataframe\">\n",
       "  <thead>\n",
       "    <tr style=\"text-align: right;\">\n",
       "      <th></th>\n",
       "      <th>Treatment Yes</th>\n",
       "      <th>Treatment No</th>\n",
       "      <th>row_totals</th>\n",
       "    </tr>\n",
       "  </thead>\n",
       "  <tbody>\n",
       "    <tr>\n",
       "      <th>Fam Hist Yes</th>\n",
       "      <td>10</td>\n",
       "      <td>15</td>\n",
       "      <td>25</td>\n",
       "    </tr>\n",
       "    <tr>\n",
       "      <th>Fam Hist No</th>\n",
       "      <td>3</td>\n",
       "      <td>36</td>\n",
       "      <td>39</td>\n",
       "    </tr>\n",
       "    <tr>\n",
       "      <th>col_totals</th>\n",
       "      <td>13</td>\n",
       "      <td>51</td>\n",
       "      <td>64</td>\n",
       "    </tr>\n",
       "  </tbody>\n",
       "</table>\n",
       "</div>"
      ],
      "text/plain": [
       "              Treatment Yes  Treatment No  row_totals\n",
       "Fam Hist Yes             10            15          25\n",
       "Fam Hist No               3            36          39\n",
       "col_totals               13            51          64"
      ]
     },
     "execution_count": 38,
     "metadata": {},
     "output_type": "execute_result"
    }
   ],
   "source": [
    "##  Chi-Squared Test of Independence\n",
    "# Generate crosstabs of \"family history\" and \"treatment\" (the \"observed\" values)\n",
    "import scipy.stats as stats\n",
    "\n",
    "tab_famhist_treatment = pd.crosstab(strat_output[\"family_history\"], strat_output[\"treatment\"], margins = True)\n",
    "tab_famhist_treatment.columns = [\"Treatment Yes\",\"Treatment No\",\"row_totals\"]\n",
    "tab_famhist_treatment.index = [\"Fam Hist Yes\",\"Fam Hist No\",\"col_totals\"]\n",
    "\n",
    "observed = tab_famhist_treatment.iloc[0:2,0:2]   # Get table without totals for later use\n",
    "\n",
    "tab_famhist_treatment"
   ]
  },
  {
   "cell_type": "code",
   "execution_count": 39,
   "metadata": {},
   "outputs": [
    {
     "data": {
      "text/html": [
       "<div>\n",
       "<style scoped>\n",
       "    .dataframe tbody tr th:only-of-type {\n",
       "        vertical-align: middle;\n",
       "    }\n",
       "\n",
       "    .dataframe tbody tr th {\n",
       "        vertical-align: top;\n",
       "    }\n",
       "\n",
       "    .dataframe thead th {\n",
       "        text-align: right;\n",
       "    }\n",
       "</style>\n",
       "<table border=\"1\" class=\"dataframe\">\n",
       "  <thead>\n",
       "    <tr style=\"text-align: right;\">\n",
       "      <th></th>\n",
       "      <th>Treatment Yes</th>\n",
       "      <th>Treatment No</th>\n",
       "    </tr>\n",
       "  </thead>\n",
       "  <tbody>\n",
       "    <tr>\n",
       "      <th>Fam Hist Yes</th>\n",
       "      <td>0.258552</td>\n",
       "      <td>1.014320</td>\n",
       "    </tr>\n",
       "    <tr>\n",
       "      <th>Fam Hist No</th>\n",
       "      <td>0.403341</td>\n",
       "      <td>1.582339</td>\n",
       "    </tr>\n",
       "  </tbody>\n",
       "</table>\n",
       "</div>"
      ],
      "text/plain": [
       "              Treatment Yes  Treatment No\n",
       "Fam Hist Yes       0.258552      1.014320\n",
       "Fam Hist No        0.403341      1.582339"
      ]
     },
     "execution_count": 39,
     "metadata": {},
     "output_type": "execute_result"
    }
   ],
   "source": [
    "# Generate the \"expected\" values to compare against our \"observed\" values\n",
    "\n",
    "expected =  np.outer(tab_famhist_treatment[\"row_totals\"][0:2],\n",
    "                     tab_famhist_treatment.loc[\"col_totals\"][0:2]) / 1257\n",
    "\n",
    "expected = pd.DataFrame(expected)\n",
    "\n",
    "expected.columns = [\"Treatment Yes\",\"Treatment No\"]\n",
    "expected.index = [\"Fam Hist Yes\",\"Fam Hist No\"]\n",
    "\n",
    "expected"
   ]
  },
  {
   "cell_type": "code",
   "execution_count": 40,
   "metadata": {},
   "outputs": [
    {
     "name": "stdout",
     "output_type": "stream",
     "text": [
      "1325.2056457385456\n"
     ]
    }
   ],
   "source": [
    "# Run the Chi-Squared test\n",
    "chi_squared_stat = (((observed-expected)**2)/expected).sum().sum()\n",
    "print(chi_squared_stat)"
   ]
  },
  {
   "cell_type": "code",
   "execution_count": 41,
   "metadata": {},
   "outputs": [
    {
     "name": "stdout",
     "output_type": "stream",
     "text": [
      "Critical value\n",
      "3.841458820694124\n",
      "P value\n",
      "0.0\n"
     ]
    }
   ],
   "source": [
    "crit = stats.chi2.ppf(q = 0.95, # Find the critical value for 95% confidence*\n",
    "                      df = 1)   # *\n",
    "\n",
    "# *Note: The degrees of freedom for a test of independence equals the product of \n",
    "# the number of categories in each variable minus 1. In this case we have a 2x2 table \n",
    "# so df = 1x1 = 1.\n",
    "\n",
    "print(\"Critical value\")\n",
    "print(crit)\n",
    "\n",
    "p_value = 1 - stats.chi2.cdf(x=chi_squared_stat,  # Find the p-value\n",
    "                             df=1)\n",
    "print(\"P value\")\n",
    "print(p_value)\n",
    "## P value of zero doesn't seem right"
   ]
  },
  {
   "cell_type": "code",
   "execution_count": 42,
   "metadata": {},
   "outputs": [
    {
     "name": "stdout",
     "output_type": "stream",
     "text": [
      "Country Count = 3\n",
      "Country Names = {'Bahamas, The', 'United States', 'Israel'}\n"
     ]
    }
   ],
   "source": [
    "## How does the frequency of mental health illness vary by geographic location\n",
    "# Display the distinct countries represented in the data (quantity and names)\n",
    "print(\"Country Count =\", len(set(strat_output['country'])))\n",
    "print(\"Country Names =\", set(strat_output['country']))"
   ]
  },
  {
   "cell_type": "code",
   "execution_count": 43,
   "metadata": {},
   "outputs": [
    {
     "name": "stdout",
     "output_type": "stream",
     "text": [
      "State Count = 23\n",
      "State Names = {'AL', 'WY', 'LA', 'IN', 'VA', 'MN', 'NC', 'NJ', 'PA', 'WA', 'GA', 'TN', 'OH', 'OR', 'MD', 'NY', 'UT', 'CA', 'MI', 'WI', 'IL', 'TX', 'MA'}\n",
      "count     64\n",
      "unique    23\n",
      "top       WA\n",
      "freq      11\n",
      "Name: state, dtype: object\n"
     ]
    }
   ],
   "source": [
    "# Display quantity and names of distinct countries represented in the data (quantity and names)\n",
    "\n",
    "print(\"State Count =\", len(set(strat_output['state'])))\n",
    "print(\"State Names =\", set(strat_output['state']))\n",
    "print(strat_output['state'].describe())"
   ]
  },
  {
   "cell_type": "code",
   "execution_count": 44,
   "metadata": {},
   "outputs": [
    {
     "data": {
      "image/png": "[encoded data removed]",
      "text/plain": [
       "<Figure size 720x504 with 1 Axes>"
      ]
     },
     "metadata": {},
     "output_type": "display_data"
    }
   ],
   "source": [
    "# Create a frequency chart for \"country\"\n",
    "\n",
    "plt.figure(figsize=(10, 7))\n",
    "sns.countplot(y='country', order = strat_output['country'].value_counts().index, data=strat_output)\n",
    "plt.title('Survey Responses by Country', fontsize=20)\n",
    "plt.xlabel('')\n",
    "plt.ylabel('')\n",
    "plt.show()"
   ]
  },
  {
   "cell_type": "code",
   "execution_count": 45,
   "metadata": {},
   "outputs": [
    {
     "data": {
      "image/png": "[encoded data removed]",
      "text/plain": [
       "<Figure size 1440x504 with 1 Axes>"
      ]
     },
     "metadata": {},
     "output_type": "display_data"
    }
   ],
   "source": [
    "#### Survey Responses by state\n",
    "\n",
    "total = float(len(strat_output))\n",
    "plt.figure(figsize=(20, 7))\n",
    "ax = sns.countplot(x='state', order = strat_output['state'].value_counts().index, data=strat_output)\n",
    "for p in ax.patches:\n",
    "    height = p.get_height()\n",
    "    ax.text(p.get_x()+p.get_width()/2.,\n",
    "            height + 3,\n",
    "            '{:1.2f}'.format(height/total),\n",
    "            ha=\"center\") \n",
    "plt.title('Responses by State', fontsize=20)\n",
    "plt.xlabel('')\n",
    "plt.ylabel('')\n",
    "plt.show()"
   ]
  },
  {
   "cell_type": "code",
   "execution_count": 55,
   "metadata": {},
   "outputs": [
    {
     "name": "stdout",
     "output_type": "stream",
     "text": [
      "col_0      count\n",
      "region          \n",
      "Midwest       12\n",
      "Northeast      6\n",
      "South         21\n",
      "West          25\n",
      "If we didn't miss anything, this will equal 1257: 64\n"
     ]
    },
    {
     "data": {
      "text/plain": [
       "<AxesSubplot:xlabel='region'>"
      ]
     },
     "execution_count": 55,
     "metadata": {},
     "output_type": "execute_result"
    },
    {
     "data": {
      "image/png": "[encoded data removed]",
      "text/plain": [
       "<Figure size 1440x504 with 1 Axes>"
      ]
     },
     "metadata": {},
     "output_type": "display_data"
    }
   ],
   "source": [
    "# Define how to recategorize each state into one of the US Census Bureau regions: West, Midwest, South, Northeast\n",
    "\n",
    "# Mke a copy of the column to preserve the original data. Work with the new column going forward.\n",
    "strat_output['region'] = strat_output['state']\n",
    "\n",
    "# Then, in the new column, assign each type of response to one of the new categories\n",
    "\n",
    "west = [\"WA\", \"OR\", \"CA\", \"NV\", \"ID\", \"MT\", \"WY\", \"UT\", \"AZ\", \"NM\", \"CO\"]\n",
    "midwest = [\"ND\", \"SD\", \"NE\", \"KS\", \"MN\", \"IA\", \"MO\", \"WI\", \"IL\", \"IN\", \"OH\", \"MI\"]\n",
    "northeast = [\"ME\",  \"NH\", \"VT\", \"MA\", \"CT\", \"RI\", \"NY\", \"PA\", \"NJ\"]\n",
    "south = [\"MD\", \"DE\", \"DC\", \"WV\",  \"VA\", \"NC\",\"SC\", \"GA\", \"FL\", \"KY\", \"TN\", \"AL\", \"MS\", \"AR\", \"LA\", \"OK\", \"TX\"]\n",
    "\n",
    "strat_output['region'] = strat_output['region'].apply(lambda x:\"West\" if x in west else x)\n",
    "strat_output['region'] = strat_output['region'].apply(lambda x:\"Midwest\" if x in midwest else x)\n",
    "strat_output['region'] = strat_output['region'].apply(lambda x:\"Northeast\" if x in northeast else x)\n",
    "strat_output['region'] = strat_output['region'].apply(lambda x:\"South\" if x in south else x)\n",
    "\n",
    "# Make a crosstab to view the count for each of the new categories\n",
    "region_tab = pd.crosstab(index=strat_output[\"region\"], columns=\"count\")\n",
    "\n",
    "print(region_tab)\n",
    "\n",
    "# Confirm that we didn't miss any entries\n",
    "print(\"If we didn't miss anything, this will equal 1257:\", len(strat_output['region']))\n",
    "\n",
    "region_tab.plot(kind=\"bar\", \n",
    "                 figsize=(20,7),\n",
    "                 stacked=True)"
   ]
  },
  {
   "cell_type": "code",
   "execution_count": 56,
   "metadata": {},
   "outputs": [
    {
     "data": {
      "image/png": "[encoded data removed]",
      "text/plain": [
       "<Figure size 1440x504 with 1 Axes>"
      ]
     },
     "metadata": {},
     "output_type": "display_data"
    }
   ],
   "source": [
    "#### Survey Responses by region\n",
    "\n",
    "total = float(len(strat_output))\n",
    "plt.figure(figsize=(20, 7))\n",
    "ax = sns.countplot(x='region', order = strat_output['region'].value_counts().index, data=strat_output)\n",
    "for p in ax.patches:\n",
    "    height = p.get_height()\n",
    "    ax.text(p.get_x()+p.get_width()/2.,\n",
    "            height + 3,\n",
    "            '{:1.2f}'.format(height/total),\n",
    "            ha=\"center\") \n",
    "plt.title('Responses by Region', fontsize=20)\n",
    "plt.xlabel('')\n",
    "plt.ylabel('')\n",
    "plt.show()"
   ]
  },
  {
   "cell_type": "code",
   "execution_count": 57,
   "metadata": {},
   "outputs": [
    {
     "data": {
      "image/png": "[encoded data removed]",
      "text/plain": [
       "<Figure size 720x504 with 1 Axes>"
      ]
     },
     "metadata": {},
     "output_type": "display_data"
    }
   ],
   "source": [
    "plt.figure(figsize=(10,7))\n",
    "sns.countplot(x=\"region\", hue=\"work_interfere\", hue_order = [\"Never\", \"Rarely\", \"Sometimes\", \"Often\"], data=strat_output)\n",
    "plt.suptitle(\"Work Interfere v. Region (U.S.)\", fontsize=20)\n",
    "plt.title(\"Frequency of mental health conditions in the U.S. by region\", fontsize=16)\n",
    "plt.xlabel(\"\")\n",
    "plt.ylabel(\"\")\n",
    "plt.show()"
   ]
  },
  {
   "cell_type": "code",
   "execution_count": 51,
   "metadata": {},
   "outputs": [
    {
     "data": {
      "text/plain": [
       "793     Sometimes\n",
       "579     Sometimes\n",
       "756     Sometimes\n",
       "930     Sometimes\n",
       "346     Sometimes\n",
       "          ...    \n",
       "1190    Sometimes\n",
       "231        Rarely\n",
       "1127        Often\n",
       "158        Rarely\n",
       "45      Sometimes\n",
       "Name: work_interfere, Length: 64, dtype: object"
      ]
     },
     "execution_count": 51,
     "metadata": {},
     "output_type": "execute_result"
    }
   ],
   "source": [
    "strat_output['work_interfere']\n"
   ]
  },
  {
   "cell_type": "code",
   "execution_count": 58,
   "metadata": {},
   "outputs": [
    {
     "name": "stdout",
     "output_type": "stream",
     "text": [
      "col_0  count\n",
      "ill         \n",
      "Yes       64\n",
      "If we didn't miss anything, this will equal 1257: 64\n"
     ]
    },
    {
     "data": {
      "text/plain": [
       "<AxesSubplot:xlabel='ill'>"
      ]
     },
     "execution_count": 58,
     "metadata": {},
     "output_type": "execute_result"
    },
    {
     "data": {
      "image/png": "[encoded data removed]",
      "text/plain": [
       "<Figure size 1440x504 with 1 Axes>"
      ]
     },
     "metadata": {},
     "output_type": "display_data"
    }
   ],
   "source": [
    " #Convert the work_interfere responses into a new variable, \n",
    "\n",
    "# Make a copy of the column to preserve the original data. Work with the new column going forward.\n",
    "strat_output['ill'] = strat_output['work_interfere']\n",
    "\n",
    "# Transform all NaN to \"No\" (which means, not currently experiencing a mental health condition)\n",
    "strat_output['ill'] = strat_output['ill'].replace(np.nan, 'No', regex=True)\n",
    "\n",
    "# Assign each type of response to one of two categories\n",
    "\n",
    "notill = [\"No\"]\n",
    "ill = [\"Never\", \"Rarely\", \"Sometimes\", \"Often\"]\n",
    "\n",
    "strat_output['ill'] = strat_output['ill'].apply(lambda x:\"Yes\" if x in ill else x)\n",
    "strat_output['ill'] = strat_output['ill'].apply(lambda x:\"No\" if x in notill else x)\n",
    "\n",
    "# Make a crosstab to view the count for each of the new categories\n",
    "ill_tab = pd.crosstab(index=strat_output[\"ill\"], columns=\"count\")\n",
    "\n",
    "print(ill_tab)\n",
    "\n",
    "# Confirm that we didn't miss any entries\n",
    "print(\"If we didn't miss anything, this will equal 1257:\", len(strat_output['ill']))\n",
    "\n",
    "ill_tab.plot(kind=\"bar\", \n",
    "                 figsize=(20,7),\n",
    "                 stacked=True)"
   ]
  },
  {
   "cell_type": "code",
   "execution_count": 59,
   "metadata": {},
   "outputs": [
    {
     "data": {
      "image/png": "[encoded data removed]",
      "text/plain": [
       "<Figure size 720x504 with 1 Axes>"
      ]
     },
     "metadata": {},
     "output_type": "display_data"
    }
   ],
   "source": [
    "# Display the relationship between \"ill\" and \"region\"\n",
    "\n",
    "plt.figure(figsize=(10,7))\n",
    "sns.countplot(x=\"region\", hue=\"ill\", hue_order = [\"Yes\", \"No\"], data=strat_output)\n",
    "plt.suptitle(\"Mental Health Conditions v. Region (U.S.)\", fontsize=20)\n",
    "plt.title(\"Frequency of mental health conditions in the U.S. by region\", fontsize=16)\n",
    "plt.xlabel(\"\")\n",
    "plt.ylabel(\"\")\n",
    "plt.show()"
   ]
  },
  {
   "cell_type": "code",
   "execution_count": 60,
   "metadata": {},
   "outputs": [
    {
     "name": "stdout",
     "output_type": "stream",
     "text": [
      "col_0      count\n",
      "attitudes       \n",
      "Moderate      25\n",
      "Negative      14\n",
      "Positive      25\n",
      "If we didn't miss anything, this will equal 1257: 64\n",
      "AxesSubplot(0.125,0.125;0.775x0.755)\n"
     ]
    },
    {
     "data": {
      "image/png": "[encoded data removed]",
      "text/plain": [
       "<Figure size 1440x504 with 1 Axes>"
      ]
     },
     "metadata": {},
     "output_type": "display_data"
    },
    {
     "data": {
      "image/png": "[encoded data removed]",
      "text/plain": [
       "<Figure size 720x504 with 1 Axes>"
      ]
     },
     "metadata": {},
     "output_type": "display_data"
    },
    {
     "name": "stdout",
     "output_type": "stream",
     "text": [
      "None\n"
     ]
    }
   ],
   "source": [
    "# Convert the mental_health_consequence responses into a new variable, \n",
    "\n",
    "# Make a copy of the column to preserve the original data. Work with the new column going forward.\n",
    "strat_output['attitudes'] = strat_output['mental_health_consequence']\n",
    "\n",
    "# Assign each type of response to one of two categories\n",
    "positive = [\"No\"]\n",
    "negative = [\"Yes\"]\n",
    "moderate = ['Maybe']\n",
    "\n",
    "strat_output['attitudes'] = strat_output['attitudes'].apply(lambda x:\"Positive\" if x in positive else x)\n",
    "strat_output['attitudes'] = strat_output['attitudes'].apply(lambda x:\"Negative\" if x in negative else x)\n",
    "strat_output['attitudes'] = strat_output['attitudes'].apply(lambda x:\"Moderate\" if x in moderate else x)\n",
    "\n",
    "\n",
    "# Make a crosstab to view the count for each of the new categories\n",
    "attitudes_tab = pd.crosstab(index=strat_output[\"attitudes\"], columns=\"count\")\n",
    "\n",
    "print(attitudes_tab)\n",
    "\n",
    "# Confirm that we didn't miss any entries\n",
    "print(\"If we didn't miss anything, this will equal 1257:\", len(strat_output['attitudes']))\n",
    "\n",
    "print(attitudes_tab.plot(kind=\"bar\", \n",
    "                 figsize=(20,7),\n",
    "                 stacked=True))\n",
    "\n",
    "\n",
    "# Display the relationship between \"mental_health_consequence\" and \"region\"\n",
    "\n",
    "plt.figure(figsize=(10,7))\n",
    "sns.countplot(x=\"region\", hue=\"attitudes\", hue_order = [\"Positive\", \"Moderate\", \"Negative\"], data=strat_output)\n",
    "plt.suptitle(\"Mental Health Attitudes v. Region (U.S.)\", fontsize=20)\n",
    "plt.title(\"Attitudes towards mental health in the U.S. by region\", fontsize=16)\n",
    "plt.xlabel(\"\")\n",
    "plt.ylabel(\"\")\n",
    "print(plt.show())"
   ]
  }
 ],
 "metadata": {
  "kernelspec": {
   "display_name": "Python 3",
   "language": "python",
   "name": "python3"
  },
  "language_info": {
   "codemirror_mode": {
    "name": "ipython",
    "version": 3
   },
   "file_extension": ".py",
   "mimetype": "text/x-python",
   "name": "python",
   "nbconvert_exporter": "python",
   "pygments_lexer": "ipython3",
   "version": "3.7.6"
  }
 },
 "nbformat": 4,
 "nbformat_minor": 4
}
